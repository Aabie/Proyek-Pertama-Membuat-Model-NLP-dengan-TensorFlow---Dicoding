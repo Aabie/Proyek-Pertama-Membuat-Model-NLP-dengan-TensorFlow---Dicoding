{
  "cells": [
    {
      "cell_type": "markdown",
      "metadata": {
        "id": "sN1dV1rPNNNA"
      },
      "source": [
        "Indonesian news classification by title\n",
        "\n",
        "Abie Nugraha"
      ]
    },
    {
      "cell_type": "code",
      "execution_count": 442,
      "metadata": {
        "colab": {
          "base_uri": "https://localhost:8080/",
          "height": 206
        },
        "id": "hOep0rIKj9BG",
        "outputId": "46f22e19-8804-4585-a39c-ce6755a42a14"
      },
      "outputs": [
        {
          "data": {
            "text/html": [
              "\n",
              "  <div id=\"df-8c411fd6-7706-4393-9f67-8b09fc10dda7\">\n",
              "    <div class=\"colab-df-container\">\n",
              "      <div>\n",
              "<style scoped>\n",
              "    .dataframe tbody tr th:only-of-type {\n",
              "        vertical-align: middle;\n",
              "    }\n",
              "\n",
              "    .dataframe tbody tr th {\n",
              "        vertical-align: top;\n",
              "    }\n",
              "\n",
              "    .dataframe thead th {\n",
              "        text-align: right;\n",
              "    }\n",
              "</style>\n",
              "<table border=\"1\" class=\"dataframe\">\n",
              "  <thead>\n",
              "    <tr style=\"text-align: right;\">\n",
              "      <th></th>\n",
              "      <th>date</th>\n",
              "      <th>url</th>\n",
              "      <th>title</th>\n",
              "      <th>category</th>\n",
              "    </tr>\n",
              "  </thead>\n",
              "  <tbody>\n",
              "    <tr>\n",
              "      <th>0</th>\n",
              "      <td>02/26/2020</td>\n",
              "      <td>https://finance.detik.com/berita-ekonomi-bisni...</td>\n",
              "      <td>Kemnaker Awasi TKA di Meikarta</td>\n",
              "      <td>finance</td>\n",
              "    </tr>\n",
              "    <tr>\n",
              "      <th>1</th>\n",
              "      <td>02/26/2020</td>\n",
              "      <td>https://finance.detik.com/berita-ekonomi-bisni...</td>\n",
              "      <td>BNI Digitalkan BNI Java Jazz 2020</td>\n",
              "      <td>finance</td>\n",
              "    </tr>\n",
              "    <tr>\n",
              "      <th>2</th>\n",
              "      <td>02/26/2020</td>\n",
              "      <td>https://finance.detik.com/berita-ekonomi-bisni...</td>\n",
              "      <td>Terbang ke Australia, Edhy Prabowo Mau Genjot ...</td>\n",
              "      <td>finance</td>\n",
              "    </tr>\n",
              "    <tr>\n",
              "      <th>3</th>\n",
              "      <td>02/26/2020</td>\n",
              "      <td>https://finance.detik.com/moneter/d-4916133/oj...</td>\n",
              "      <td>OJK Siapkan Stimulus Ekonomi Antisipasi Dampak...</td>\n",
              "      <td>finance</td>\n",
              "    </tr>\n",
              "    <tr>\n",
              "      <th>4</th>\n",
              "      <td>02/26/2020</td>\n",
              "      <td>https://finance.detik.com/berita-ekonomi-bisni...</td>\n",
              "      <td>Saran Buat Anies-RK yang Mangkir Rapat Banjir ...</td>\n",
              "      <td>finance</td>\n",
              "    </tr>\n",
              "  </tbody>\n",
              "</table>\n",
              "</div>\n",
              "      <button class=\"colab-df-convert\" onclick=\"convertToInteractive('df-8c411fd6-7706-4393-9f67-8b09fc10dda7')\"\n",
              "              title=\"Convert this dataframe to an interactive table.\"\n",
              "              style=\"display:none;\">\n",
              "        \n",
              "  <svg xmlns=\"http://www.w3.org/2000/svg\" height=\"24px\"viewBox=\"0 0 24 24\"\n",
              "       width=\"24px\">\n",
              "    <path d=\"M0 0h24v24H0V0z\" fill=\"none\"/>\n",
              "    <path d=\"M18.56 5.44l.94 2.06.94-2.06 2.06-.94-2.06-.94-.94-2.06-.94 2.06-2.06.94zm-11 1L8.5 8.5l.94-2.06 2.06-.94-2.06-.94L8.5 2.5l-.94 2.06-2.06.94zm10 10l.94 2.06.94-2.06 2.06-.94-2.06-.94-.94-2.06-.94 2.06-2.06.94z\"/><path d=\"M17.41 7.96l-1.37-1.37c-.4-.4-.92-.59-1.43-.59-.52 0-1.04.2-1.43.59L10.3 9.45l-7.72 7.72c-.78.78-.78 2.05 0 2.83L4 21.41c.39.39.9.59 1.41.59.51 0 1.02-.2 1.41-.59l7.78-7.78 2.81-2.81c.8-.78.8-2.07 0-2.86zM5.41 20L4 18.59l7.72-7.72 1.47 1.35L5.41 20z\"/>\n",
              "  </svg>\n",
              "      </button>\n",
              "      \n",
              "  <style>\n",
              "    .colab-df-container {\n",
              "      display:flex;\n",
              "      flex-wrap:wrap;\n",
              "      gap: 12px;\n",
              "    }\n",
              "\n",
              "    .colab-df-convert {\n",
              "      background-color: #E8F0FE;\n",
              "      border: none;\n",
              "      border-radius: 50%;\n",
              "      cursor: pointer;\n",
              "      display: none;\n",
              "      fill: #1967D2;\n",
              "      height: 32px;\n",
              "      padding: 0 0 0 0;\n",
              "      width: 32px;\n",
              "    }\n",
              "\n",
              "    .colab-df-convert:hover {\n",
              "      background-color: #E2EBFA;\n",
              "      box-shadow: 0px 1px 2px rgba(60, 64, 67, 0.3), 0px 1px 3px 1px rgba(60, 64, 67, 0.15);\n",
              "      fill: #174EA6;\n",
              "    }\n",
              "\n",
              "    [theme=dark] .colab-df-convert {\n",
              "      background-color: #3B4455;\n",
              "      fill: #D2E3FC;\n",
              "    }\n",
              "\n",
              "    [theme=dark] .colab-df-convert:hover {\n",
              "      background-color: #434B5C;\n",
              "      box-shadow: 0px 1px 3px 1px rgba(0, 0, 0, 0.15);\n",
              "      filter: drop-shadow(0px 1px 2px rgba(0, 0, 0, 0.3));\n",
              "      fill: #FFFFFF;\n",
              "    }\n",
              "  </style>\n",
              "\n",
              "      <script>\n",
              "        const buttonEl =\n",
              "          document.querySelector('#df-8c411fd6-7706-4393-9f67-8b09fc10dda7 button.colab-df-convert');\n",
              "        buttonEl.style.display =\n",
              "          google.colab.kernel.accessAllowed ? 'block' : 'none';\n",
              "\n",
              "        async function convertToInteractive(key) {\n",
              "          const element = document.querySelector('#df-8c411fd6-7706-4393-9f67-8b09fc10dda7');\n",
              "          const dataTable =\n",
              "            await google.colab.kernel.invokeFunction('convertToInteractive',\n",
              "                                                     [key], {});\n",
              "          if (!dataTable) return;\n",
              "\n",
              "          const docLinkHtml = 'Like what you see? Visit the ' +\n",
              "            '<a target=\"_blank\" href=https://colab.research.google.com/notebooks/data_table.ipynb>data table notebook</a>'\n",
              "            + ' to learn more about interactive tables.';\n",
              "          element.innerHTML = '';\n",
              "          dataTable['output_type'] = 'display_data';\n",
              "          await google.colab.output.renderOutput(dataTable, element);\n",
              "          const docLink = document.createElement('div');\n",
              "          docLink.innerHTML = docLinkHtml;\n",
              "          element.appendChild(docLink);\n",
              "        }\n",
              "      </script>\n",
              "    </div>\n",
              "  </div>\n",
              "  "
            ],
            "text/plain": [
              "         date                                                url  \\\n",
              "0  02/26/2020  https://finance.detik.com/berita-ekonomi-bisni...   \n",
              "1  02/26/2020  https://finance.detik.com/berita-ekonomi-bisni...   \n",
              "2  02/26/2020  https://finance.detik.com/berita-ekonomi-bisni...   \n",
              "3  02/26/2020  https://finance.detik.com/moneter/d-4916133/oj...   \n",
              "4  02/26/2020  https://finance.detik.com/berita-ekonomi-bisni...   \n",
              "\n",
              "                                               title category  \n",
              "0                     Kemnaker Awasi TKA di Meikarta  finance  \n",
              "1                  BNI Digitalkan BNI Java Jazz 2020  finance  \n",
              "2  Terbang ke Australia, Edhy Prabowo Mau Genjot ...  finance  \n",
              "3  OJK Siapkan Stimulus Ekonomi Antisipasi Dampak...  finance  \n",
              "4  Saran Buat Anies-RK yang Mangkir Rapat Banjir ...  finance  "
            ]
          },
          "execution_count": 442,
          "metadata": {},
          "output_type": "execute_result"
        }
      ],
      "source": [
        "#import dataset\n",
        "import pandas as pd \n",
        "df = pd.read_csv('/tmp/indonesian-news-title.csv')\n",
        "df.head()"
      ]
    },
    {
      "cell_type": "code",
      "execution_count": 443,
      "metadata": {
        "colab": {
          "base_uri": "https://localhost:8080/",
          "height": 206
        },
        "id": "of1z2Dx3LwpV",
        "outputId": "9484407a-217b-4cbf-c6a3-5717ed4492c9"
      },
      "outputs": [
        {
          "data": {
            "text/html": [
              "\n",
              "  <div id=\"df-54dfb50e-d991-4cd7-aa13-6a0ae591e906\">\n",
              "    <div class=\"colab-df-container\">\n",
              "      <div>\n",
              "<style scoped>\n",
              "    .dataframe tbody tr th:only-of-type {\n",
              "        vertical-align: middle;\n",
              "    }\n",
              "\n",
              "    .dataframe tbody tr th {\n",
              "        vertical-align: top;\n",
              "    }\n",
              "\n",
              "    .dataframe thead th {\n",
              "        text-align: right;\n",
              "    }\n",
              "</style>\n",
              "<table border=\"1\" class=\"dataframe\">\n",
              "  <thead>\n",
              "    <tr style=\"text-align: right;\">\n",
              "      <th></th>\n",
              "      <th>title</th>\n",
              "      <th>category</th>\n",
              "    </tr>\n",
              "  </thead>\n",
              "  <tbody>\n",
              "    <tr>\n",
              "      <th>0</th>\n",
              "      <td>Kemnaker Awasi TKA di Meikarta</td>\n",
              "      <td>finance</td>\n",
              "    </tr>\n",
              "    <tr>\n",
              "      <th>1</th>\n",
              "      <td>BNI Digitalkan BNI Java Jazz 2020</td>\n",
              "      <td>finance</td>\n",
              "    </tr>\n",
              "    <tr>\n",
              "      <th>2</th>\n",
              "      <td>Terbang ke Australia, Edhy Prabowo Mau Genjot ...</td>\n",
              "      <td>finance</td>\n",
              "    </tr>\n",
              "    <tr>\n",
              "      <th>3</th>\n",
              "      <td>OJK Siapkan Stimulus Ekonomi Antisipasi Dampak...</td>\n",
              "      <td>finance</td>\n",
              "    </tr>\n",
              "    <tr>\n",
              "      <th>4</th>\n",
              "      <td>Saran Buat Anies-RK yang Mangkir Rapat Banjir ...</td>\n",
              "      <td>finance</td>\n",
              "    </tr>\n",
              "  </tbody>\n",
              "</table>\n",
              "</div>\n",
              "      <button class=\"colab-df-convert\" onclick=\"convertToInteractive('df-54dfb50e-d991-4cd7-aa13-6a0ae591e906')\"\n",
              "              title=\"Convert this dataframe to an interactive table.\"\n",
              "              style=\"display:none;\">\n",
              "        \n",
              "  <svg xmlns=\"http://www.w3.org/2000/svg\" height=\"24px\"viewBox=\"0 0 24 24\"\n",
              "       width=\"24px\">\n",
              "    <path d=\"M0 0h24v24H0V0z\" fill=\"none\"/>\n",
              "    <path d=\"M18.56 5.44l.94 2.06.94-2.06 2.06-.94-2.06-.94-.94-2.06-.94 2.06-2.06.94zm-11 1L8.5 8.5l.94-2.06 2.06-.94-2.06-.94L8.5 2.5l-.94 2.06-2.06.94zm10 10l.94 2.06.94-2.06 2.06-.94-2.06-.94-.94-2.06-.94 2.06-2.06.94z\"/><path d=\"M17.41 7.96l-1.37-1.37c-.4-.4-.92-.59-1.43-.59-.52 0-1.04.2-1.43.59L10.3 9.45l-7.72 7.72c-.78.78-.78 2.05 0 2.83L4 21.41c.39.39.9.59 1.41.59.51 0 1.02-.2 1.41-.59l7.78-7.78 2.81-2.81c.8-.78.8-2.07 0-2.86zM5.41 20L4 18.59l7.72-7.72 1.47 1.35L5.41 20z\"/>\n",
              "  </svg>\n",
              "      </button>\n",
              "      \n",
              "  <style>\n",
              "    .colab-df-container {\n",
              "      display:flex;\n",
              "      flex-wrap:wrap;\n",
              "      gap: 12px;\n",
              "    }\n",
              "\n",
              "    .colab-df-convert {\n",
              "      background-color: #E8F0FE;\n",
              "      border: none;\n",
              "      border-radius: 50%;\n",
              "      cursor: pointer;\n",
              "      display: none;\n",
              "      fill: #1967D2;\n",
              "      height: 32px;\n",
              "      padding: 0 0 0 0;\n",
              "      width: 32px;\n",
              "    }\n",
              "\n",
              "    .colab-df-convert:hover {\n",
              "      background-color: #E2EBFA;\n",
              "      box-shadow: 0px 1px 2px rgba(60, 64, 67, 0.3), 0px 1px 3px 1px rgba(60, 64, 67, 0.15);\n",
              "      fill: #174EA6;\n",
              "    }\n",
              "\n",
              "    [theme=dark] .colab-df-convert {\n",
              "      background-color: #3B4455;\n",
              "      fill: #D2E3FC;\n",
              "    }\n",
              "\n",
              "    [theme=dark] .colab-df-convert:hover {\n",
              "      background-color: #434B5C;\n",
              "      box-shadow: 0px 1px 3px 1px rgba(0, 0, 0, 0.15);\n",
              "      filter: drop-shadow(0px 1px 2px rgba(0, 0, 0, 0.3));\n",
              "      fill: #FFFFFF;\n",
              "    }\n",
              "  </style>\n",
              "\n",
              "      <script>\n",
              "        const buttonEl =\n",
              "          document.querySelector('#df-54dfb50e-d991-4cd7-aa13-6a0ae591e906 button.colab-df-convert');\n",
              "        buttonEl.style.display =\n",
              "          google.colab.kernel.accessAllowed ? 'block' : 'none';\n",
              "\n",
              "        async function convertToInteractive(key) {\n",
              "          const element = document.querySelector('#df-54dfb50e-d991-4cd7-aa13-6a0ae591e906');\n",
              "          const dataTable =\n",
              "            await google.colab.kernel.invokeFunction('convertToInteractive',\n",
              "                                                     [key], {});\n",
              "          if (!dataTable) return;\n",
              "\n",
              "          const docLinkHtml = 'Like what you see? Visit the ' +\n",
              "            '<a target=\"_blank\" href=https://colab.research.google.com/notebooks/data_table.ipynb>data table notebook</a>'\n",
              "            + ' to learn more about interactive tables.';\n",
              "          element.innerHTML = '';\n",
              "          dataTable['output_type'] = 'display_data';\n",
              "          await google.colab.output.renderOutput(dataTable, element);\n",
              "          const docLink = document.createElement('div');\n",
              "          docLink.innerHTML = docLinkHtml;\n",
              "          element.appendChild(docLink);\n",
              "        }\n",
              "      </script>\n",
              "    </div>\n",
              "  </div>\n",
              "  "
            ],
            "text/plain": [
              "                                               title category\n",
              "0                     Kemnaker Awasi TKA di Meikarta  finance\n",
              "1                  BNI Digitalkan BNI Java Jazz 2020  finance\n",
              "2  Terbang ke Australia, Edhy Prabowo Mau Genjot ...  finance\n",
              "3  OJK Siapkan Stimulus Ekonomi Antisipasi Dampak...  finance\n",
              "4  Saran Buat Anies-RK yang Mangkir Rapat Banjir ...  finance"
            ]
          },
          "execution_count": 443,
          "metadata": {},
          "output_type": "execute_result"
        }
      ],
      "source": [
        "#drop dataset yang tidak digunakan\n",
        "df = df.drop(columns=['date', 'url'])\n",
        "df.head()"
      ]
    },
    {
      "cell_type": "code",
      "execution_count": 444,
      "metadata": {
        "colab": {
          "base_uri": "https://localhost:8080/"
        },
        "id": "HFTPdiyWkM20",
        "outputId": "21908d46-c863-4d02-a463-08c5d8a4c214"
      },
      "outputs": [
        {
          "name": "stdout",
          "output_type": "stream",
          "text": [
            "<class 'pandas.core.frame.DataFrame'>\n",
            "RangeIndex: 91017 entries, 0 to 91016\n",
            "Data columns (total 10 columns):\n",
            " #   Column   Non-Null Count  Dtype \n",
            "---  ------   --------------  ----- \n",
            " 0   title    91017 non-null  object\n",
            " 1   finance  91017 non-null  uint8 \n",
            " 2   food     91017 non-null  uint8 \n",
            " 3   health   91017 non-null  uint8 \n",
            " 4   hot      91017 non-null  uint8 \n",
            " 5   inet     91017 non-null  uint8 \n",
            " 6   news     91017 non-null  uint8 \n",
            " 7   oto      91017 non-null  uint8 \n",
            " 8   sport    91017 non-null  uint8 \n",
            " 9   travel   91017 non-null  uint8 \n",
            "dtypes: object(1), uint8(9)\n",
            "memory usage: 1.5+ MB\n"
          ]
        }
      ],
      "source": [
        "#one hot encoding category column\n",
        "df = pd.concat([df['title'],pd.get_dummies(df.category)],axis=1)\n",
        "df.info()"
      ]
    },
    {
      "cell_type": "code",
      "execution_count": 445,
      "metadata": {
        "id": "rEXWavHSkUqG"
      },
      "outputs": [],
      "source": [
        "#bagi dataset menjadi train dan label\n",
        "x = df['title'].values\n",
        "y = df[['finance','food','health','hot','inet','news','oto','sport',\n",
        "        'travel']].values"
      ]
    },
    {
      "cell_type": "code",
      "execution_count": 446,
      "metadata": {
        "id": "dm1YyMrXU_bD"
      },
      "outputs": [],
      "source": [
        "#preprocessing\n",
        "\n",
        "import re\n",
        "\n",
        "new_x = []\n",
        "for teks in x :\n",
        "  teks = teks.lower()                               # huruf kecil\n",
        "  teks = re.sub(\"(\\s|^)?[0-9]+(\\s|$)?\",\" \",teks)    # angka\n",
        "  teks = re.sub(\"[^\\w\\s]\",\" \",teks)                 # tanda baca\n",
        "  teks = \" \".join(teks.split())                     # spasi berlebih\n",
        "  new_x.append(teks)\n"
      ]
    },
    {
      "cell_type": "code",
      "execution_count": 447,
      "metadata": {
        "id": "H26UWEnrk5-t"
      },
      "outputs": [],
      "source": [
        "from sklearn.model_selection import train_test_split\n",
        "x_train, x_test, y_train, y_test = train_test_split(new_x,y,test_size=0.2)"
      ]
    },
    {
      "cell_type": "code",
      "execution_count": 448,
      "metadata": {
        "id": "Mnw5zgXbk8m7"
      },
      "outputs": [],
      "source": [
        "#proses tokenizer dan sequences\n",
        "from tensorflow.keras.preprocessing.text import Tokenizer\n",
        "from tensorflow.keras.preprocessing.sequence import pad_sequences\n",
        "\n",
        "tokenizer = Tokenizer(num_words=5000, oov_token='x')\n",
        "tokenizer.fit_on_texts(x_train)\n",
        "tokenizer.fit_on_texts(x_test)\n",
        "\n",
        "train_sequences = tokenizer.texts_to_sequences(x_train)\n",
        "test_sequences = tokenizer.texts_to_sequences(x_test)\n",
        "\n",
        "train_padded = pad_sequences(train_sequences)\n",
        "test_padded = pad_sequences(test_sequences)"
      ]
    },
    {
      "cell_type": "code",
      "execution_count": 449,
      "metadata": {
        "id": "n2VH0Fyarlrc"
      },
      "outputs": [],
      "source": [
        "#buat model arsitektur dan compile\n",
        "import tensorflow as tf\n",
        "from tensorflow.keras import Sequential\n",
        "from tensorflow.keras.layers import Embedding, LSTM, Dense, Dropout\n",
        "\n",
        "model = Sequential([\n",
        "  Embedding(input_dim = 5000, output_dim = 16),\n",
        "  LSTM(64),\n",
        "  Dense(128, activation = 'relu'),\n",
        "  Dense(64, activation = 'relu'),\n",
        "  Dense(9, activation = 'softmax')\n",
        "])\n",
        "\n",
        "model.compile(\n",
        "  loss = 'categorical_crossentropy',\n",
        "  optimizer = 'adam',\n",
        "  metrics = ['accuracy']\n",
        ")"
      ]
    },
    {
      "cell_type": "code",
      "execution_count": 450,
      "metadata": {
        "id": "3KFbFrrgOPcA"
      },
      "outputs": [],
      "source": [
        "#buat callbacks untuk persingkat waktu pelatihan model\n",
        "import tensorflow as tf\n",
        "class myCallback(tf.keras.callbacks.Callback) :\n",
        "  def end_epoch(self, epoch, logs={}): \n",
        "    if(logs.get('accuracy')>0.9):\n",
        "      i = logs.get('accuracy')\n",
        "      self.model.stop_training =True\n",
        "callbacks = myCallback()"
      ]
    },
    {
      "cell_type": "code",
      "execution_count": 451,
      "metadata": {
        "colab": {
          "base_uri": "https://localhost:8080/"
        },
        "id": "uSiI7mpHrnmx",
        "outputId": "a090b1e6-67f3-4d64-820e-acc5c3e4e803"
      },
      "outputs": [
        {
          "name": "stdout",
          "output_type": "stream",
          "text": [
            "Epoch 1/30\n",
            "2276/2276 - 37s - loss: 0.9262 - accuracy: 0.6896 - val_loss: 0.6518 - val_accuracy: 0.7889 - 37s/epoch - 16ms/step\n",
            "Epoch 2/30\n",
            "2276/2276 - 33s - loss: 0.5464 - accuracy: 0.8242 - val_loss: 0.5603 - val_accuracy: 0.8203 - 33s/epoch - 15ms/step\n",
            "Epoch 3/30\n",
            "2276/2276 - 33s - loss: 0.4488 - accuracy: 0.8533 - val_loss: 0.5189 - val_accuracy: 0.8320 - 33s/epoch - 15ms/step\n",
            "Epoch 4/30\n",
            "2276/2276 - 33s - loss: 0.3925 - accuracy: 0.8690 - val_loss: 0.5246 - val_accuracy: 0.8276 - 33s/epoch - 15ms/step\n",
            "Epoch 5/30\n",
            "2276/2276 - 35s - loss: 0.3510 - accuracy: 0.8823 - val_loss: 0.5249 - val_accuracy: 0.8367 - 35s/epoch - 15ms/step\n",
            "Epoch 6/30\n",
            "2276/2276 - 33s - loss: 0.3179 - accuracy: 0.8919 - val_loss: 0.5435 - val_accuracy: 0.8305 - 33s/epoch - 15ms/step\n",
            "Epoch 7/30\n",
            "2276/2276 - 34s - loss: 0.2886 - accuracy: 0.9018 - val_loss: 0.5602 - val_accuracy: 0.8312 - 34s/epoch - 15ms/step\n",
            "Epoch 8/30\n",
            "2276/2276 - 35s - loss: 0.2636 - accuracy: 0.9113 - val_loss: 0.5957 - val_accuracy: 0.8224 - 35s/epoch - 15ms/step\n",
            "Epoch 9/30\n",
            "2276/2276 - 34s - loss: 0.2428 - accuracy: 0.9168 - val_loss: 0.6075 - val_accuracy: 0.8283 - 34s/epoch - 15ms/step\n",
            "Epoch 10/30\n",
            "2276/2276 - 34s - loss: 0.2226 - accuracy: 0.9241 - val_loss: 0.6538 - val_accuracy: 0.8236 - 34s/epoch - 15ms/step\n",
            "Epoch 11/30\n",
            "2276/2276 - 34s - loss: 0.2034 - accuracy: 0.9303 - val_loss: 0.6864 - val_accuracy: 0.8218 - 34s/epoch - 15ms/step\n",
            "Epoch 12/30\n",
            "2276/2276 - 35s - loss: 0.1881 - accuracy: 0.9350 - val_loss: 0.7060 - val_accuracy: 0.8168 - 35s/epoch - 15ms/step\n",
            "Epoch 13/30\n",
            "2276/2276 - 34s - loss: 0.1711 - accuracy: 0.9403 - val_loss: 0.7680 - val_accuracy: 0.8099 - 34s/epoch - 15ms/step\n",
            "Epoch 14/30\n",
            "2276/2276 - 34s - loss: 0.1574 - accuracy: 0.9463 - val_loss: 0.8632 - val_accuracy: 0.8148 - 34s/epoch - 15ms/step\n",
            "Epoch 15/30\n",
            "2276/2276 - 34s - loss: 0.1445 - accuracy: 0.9502 - val_loss: 0.9049 - val_accuracy: 0.8123 - 34s/epoch - 15ms/step\n",
            "Epoch 16/30\n",
            "2276/2276 - 34s - loss: 0.1323 - accuracy: 0.9547 - val_loss: 0.9577 - val_accuracy: 0.8146 - 34s/epoch - 15ms/step\n",
            "Epoch 17/30\n",
            "2276/2276 - 34s - loss: 0.1224 - accuracy: 0.9564 - val_loss: 1.0451 - val_accuracy: 0.8091 - 34s/epoch - 15ms/step\n",
            "Epoch 18/30\n",
            "2276/2276 - 35s - loss: 0.1127 - accuracy: 0.9611 - val_loss: 1.0852 - val_accuracy: 0.8083 - 35s/epoch - 15ms/step\n",
            "Epoch 19/30\n",
            "2276/2276 - 34s - loss: 0.1037 - accuracy: 0.9637 - val_loss: 1.1761 - val_accuracy: 0.8045 - 34s/epoch - 15ms/step\n",
            "Epoch 20/30\n",
            "2276/2276 - 33s - loss: 0.0971 - accuracy: 0.9665 - val_loss: 1.1814 - val_accuracy: 0.8071 - 33s/epoch - 14ms/step\n",
            "Epoch 21/30\n",
            "2276/2276 - 34s - loss: 0.0887 - accuracy: 0.9697 - val_loss: 1.2875 - val_accuracy: 0.8062 - 34s/epoch - 15ms/step\n",
            "Epoch 22/30\n",
            "2276/2276 - 33s - loss: 0.0803 - accuracy: 0.9722 - val_loss: 1.3583 - val_accuracy: 0.8076 - 33s/epoch - 15ms/step\n",
            "Epoch 23/30\n",
            "2276/2276 - 34s - loss: 0.0767 - accuracy: 0.9730 - val_loss: 1.4426 - val_accuracy: 0.8064 - 34s/epoch - 15ms/step\n",
            "Epoch 24/30\n",
            "2276/2276 - 33s - loss: 0.0711 - accuracy: 0.9758 - val_loss: 1.4603 - val_accuracy: 0.8025 - 33s/epoch - 15ms/step\n",
            "Epoch 25/30\n",
            "2276/2276 - 35s - loss: 0.0651 - accuracy: 0.9774 - val_loss: 1.5593 - val_accuracy: 0.8017 - 35s/epoch - 15ms/step\n",
            "Epoch 26/30\n",
            "2276/2276 - 35s - loss: 0.0627 - accuracy: 0.9784 - val_loss: 1.5723 - val_accuracy: 0.7965 - 35s/epoch - 15ms/step\n",
            "Epoch 27/30\n",
            "2276/2276 - 34s - loss: 0.0587 - accuracy: 0.9796 - val_loss: 1.6330 - val_accuracy: 0.8013 - 34s/epoch - 15ms/step\n",
            "Epoch 28/30\n",
            "2276/2276 - 34s - loss: 0.0540 - accuracy: 0.9820 - val_loss: 1.7647 - val_accuracy: 0.8032 - 34s/epoch - 15ms/step\n",
            "Epoch 29/30\n",
            "2276/2276 - 33s - loss: 0.0535 - accuracy: 0.9822 - val_loss: 1.7306 - val_accuracy: 0.7985 - 33s/epoch - 15ms/step\n",
            "Epoch 30/30\n",
            "2276/2276 - 34s - loss: 0.0481 - accuracy: 0.9835 - val_loss: 1.7688 - val_accuracy: 0.7967 - 34s/epoch - 15ms/step\n"
          ]
        }
      ],
      "source": [
        "history = model.fit(\n",
        "  train_padded, y_train, epochs = 30,  callbacks=[callbacks],\n",
        "  validation_data = (test_padded, y_test), verbose = 2)"
      ]
    },
    {
      "cell_type": "code",
      "execution_count": 452,
      "metadata": {
        "colab": {
          "base_uri": "https://localhost:8080/",
          "height": 295
        },
        "id": "4p9kleTGRfVs",
        "outputId": "2cb6fe9f-23c5-41e7-c579-22bcf285438a"
      },
      "outputs": [
        {
          "data": {
            "image/png": "[encoded data removed]",
            "text/plain": [
              "<Figure size 432x288 with 1 Axes>"
            ]
          },
          "metadata": {
            "needs_background": "light"
          },
          "output_type": "display_data"
        }
      ],
      "source": [
        "import matplotlib.pyplot as plt\n",
        "plt.plot(history.history['accuracy'])\n",
        "plt.plot(history.history['val_accuracy'])\n",
        "plt.title('Akurasi Model')\n",
        "plt.ylabel('accuracy')\n",
        "plt.xlabel('epoch')\n",
        "plt.legend(['train', 'test'], loc='upper left')\n",
        "plt.show()"
      ]
    },
    {
      "cell_type": "code",
      "execution_count": 453,
      "metadata": {
        "colab": {
          "base_uri": "https://localhost:8080/",
          "height": 295
        },
        "id": "XMaZ2BwLRw_e",
        "outputId": "1e2c8714-c9dc-49ec-90a4-0b876a2fc5c2"
      },
      "outputs": [
        {
          "data": {
            "image/png": "[encoded data removed]",
            "text/plain": [
              "<Figure size 432x288 with 1 Axes>"
            ]
          },
          "metadata": {
            "needs_background": "light"
          },
          "output_type": "display_data"
        }
      ],
      "source": [
        "plt.plot(history.history['loss'])\n",
        "plt.plot(history.history['val_loss'])\n",
        "plt.title('Loss Model')\n",
        "plt.ylabel('loss')\n",
        "plt.xlabel('epoch')\n",
        "plt.legend(['train', 'test'], loc='upper left')\n",
        "plt.show()"
      ]
    }
  ],
  "metadata": {
    "colab": {
      "name": "Welcome To Colaboratory",
      "provenance": []
    },
    "kernelspec": {
      "display_name": "Python 3.9.13 ('base')",
      "language": "python",
      "name": "python3"
    },
    "language_info": {
      "name": "python",
      "version": "3.9.13"
    },
    "vscode": {
      "interpreter": {
        "hash": "9c7120a664482a8b4ea8f80bb792ddf3ffd94dbbddb5b4c8591cb8d70ae3d961"
      }
    }
  },
  "nbformat": 4,
  "nbformat_minor": 0
}
